{
 "cells": [
  {
   "cell_type": "code",
   "execution_count": 1,
   "metadata": {},
   "outputs": [],
   "source": [
    "import numpy as np\n",
    "import matplotlib.pyplot as plt"
   ]
  },
  {
   "cell_type": "markdown",
   "metadata": {},
   "source": [
    "1. Подберите скорость обучения (alpha) и количество итераций:"
   ]
  },
  {
   "cell_type": "code",
   "execution_count": 3,
   "metadata": {},
   "outputs": [],
   "source": [
    "X = np.array([[1, 1, 1, 1, 1, 1, 1, 1, 1, 1],\n",
    "              [1, 1, 2, 1, 3, 0, 5, 10, 1, 2]])\n",
    "y = [45, 55, 50, 59, 65, 35, 75, 80, 50, 60]"
   ]
  },
  {
   "cell_type": "code",
   "execution_count": 4,
   "metadata": {},
   "outputs": [
    {
     "data": {
      "text/plain": [
       "(array([1. , 0.5]), 0.0001)"
      ]
     },
     "execution_count": 4,
     "metadata": {},
     "output_type": "execute_result"
    }
   ],
   "source": [
    "n = X.shape[1]\n",
    "alpha = 1e-4\n",
    "W = np.array([1, 0.5])\n",
    "W, alpha"
   ]
  },
  {
   "cell_type": "code",
   "execution_count": 8,
   "metadata": {},
   "outputs": [],
   "source": [
    "# реализуем функцию, определяющую среднеквадратичную ошибку\n",
    "def mserror(y, y_pred):\n",
    "    return np.mean((y - y_pred)**2)"
   ]
  },
  {
   "cell_type": "code",
   "execution_count": 10,
   "metadata": {},
   "outputs": [
    {
     "name": "stdout",
     "output_type": "stream",
     "text": [
      "0 [1.01102 0.5    ] 3173.15\n",
      "0 [1.01102 0.534  ] 3173.15\n",
      "100 [2.02168794 3.42791095] 2207.6942101483005\n",
      "100 [2.02168794 3.452835  ] 2207.6942101483005\n",
      "200 [2.88306663 5.57141207] 1670.7027004086372\n",
      "200 [2.88306663 5.58962851] 1670.7027004086372\n",
      "300 [3.63289519 7.1352209 ] 1368.0832412796256\n",
      "300 [3.63289519 7.14848061] 1368.0832412796256\n",
      "400 [4.29908617 8.27068189] 1193.7493344933293\n",
      "400 [4.29908617 8.28027926] 1193.7493344933293\n",
      "500 [4.90228732 9.08968104] 1089.714750358689\n",
      "500 [4.90228732 9.09657298] 1089.714750358689\n",
      "600 [5.45777535 9.6749329 ] 1024.2828984889416\n",
      "600 [5.45777535 9.67982684] 1024.2828984889416\n",
      "700 [ 5.97685612 10.08758579] 980.1260644155933\n",
      "700 [ 5.97685612 10.0910047 ] 980.1260644155933\n",
      "800 [ 6.46789973 10.37284419] 947.770026039189\n",
      "800 [ 6.46789973 10.37517467] 947.770026039189\n",
      "900 [ 6.93710574 10.56412541] 922.0330206910178\n",
      "900 [ 6.93710574 10.56565326] 922.0330206910178\n"
     ]
    }
   ],
   "source": [
    "for i in range(1000):\n",
    "    y_pred = np.dot(W, X)\n",
    "    err = mserror(y, y_pred)\n",
    "    for ii in range(W.shape[0]):\n",
    "        W[ii] -= alpha * (1/n * 2 * np.sum(X[ii] * (y_pred - y)))\n",
    "        if i % 100 == 0:\n",
    "            print(i, W, err)"
   ]
  },
  {
   "cell_type": "code",
   "execution_count": 25,
   "metadata": {},
   "outputs": [
    {
     "name": "stdout",
     "output_type": "stream",
     "text": [
      "0 [ 6.51 17.5 ] 3173.15\n",
      "10 [22.7217522   8.44369395] 405.3510386109581\n",
      "20 [32.8605174   6.56455282] 169.49199958291334\n",
      "30 [38.80578987  5.46670483] 88.41177713894379\n",
      "40 [42.29161487  4.82302057] 60.53886396989223\n",
      "50 [44.33541912  4.44561648] 50.957004607078744\n",
      "60 [45.53373968  4.22433742] 47.66305293823486\n",
      "70 [46.23633738  4.09459738] 46.5306925908489\n",
      "80 [46.64828353  4.01852838] 46.141421561628825\n",
      "90 [46.88981524  3.9739277 ] 46.007602027467385\n",
      "96 [46.97001764  3.95911771] 45.9786021267187\n",
      "\n",
      "скорость обучения (alpha) = 0.05\n",
      "количество итераций = 96\n"
     ]
    }
   ],
   "source": [
    "alpha_new = 0.05\n",
    "W = np.array([1, 0.5])\n",
    "\n",
    "n = 10 # кол-во наблюдений\n",
    "err_prev = 0\n",
    "i = 0\n",
    "while (np.abs(err_prev - err)) > 0.005: \n",
    "    y_pred = np.dot(W, X)\n",
    "    err_prev = err\n",
    "    err = mserror(y, y_pred)\n",
    "    W -= (alpha_new * (1/n * 2 * np.dot(X,(y_pred - y))))\n",
    "    if i % n == 0:\n",
    "        print(i, W, err)\n",
    "    i += 1    \n",
    "n_iter = i\n",
    "if i % n != 0:\n",
    "    print(i, W, err)\n",
    "print('\\nскорость обучения (alpha) =', alpha_new)\n",
    "print('количество итераций =', n_iter)"
   ]
  },
  {
   "cell_type": "markdown",
   "metadata": {},
   "source": [
    "*2. В этом коде мы избавляемся от итераций по весам, но тут есть ошибка, исправьте ее:"
   ]
  },
  {
   "cell_type": "code",
   "execution_count": 16,
   "metadata": {},
   "outputs": [
    {
     "name": "stdout",
     "output_type": "stream",
     "text": [
      "0 [12.33064066 10.40059176] 701.2853867660021\n",
      "100 [12.68966415 10.32255107] 687.7841776474922\n",
      "200 [13.04549878 10.24816101] 674.5666931383637\n",
      "300 [13.39804065 10.17664255] 661.6244438468041\n",
      "400 [13.74722264 10.10741795] 648.9503166379145\n",
      "500 [14.09300467 10.04005835] 636.5380014833612\n",
      "600 [14.43536662  9.97424493] 624.3816771541071\n",
      "700 [14.77430297  9.90974025] 612.4758384073114\n",
      "800 [15.10981893  9.84636707] 600.8152005290432\n",
      "900 [15.44192753  9.78399266] 589.3946461770751\n"
     ]
    }
   ],
   "source": [
    "for i in range(1000):\n",
    "    y_pred = np.dot(W, X)\n",
    "    err = mserror(y, y_pred)\n",
    "    '''for ii in range(W.shape[0]):\n",
    "    W[ii] -= alpha * (1/n * 2 * np.sum(X[ii] * (y_pred - y)))'''\n",
    "    W -= (alpha * (1/n * 2 * np.dot(X, (y_pred - y))))\n",
    "    if i % 100 == 0:\n",
    "        print(i, W, err)"
   ]
  },
  {
   "cell_type": "code",
   "execution_count": null,
   "metadata": {},
   "outputs": [],
   "source": []
  },
  {
   "cell_type": "code",
   "execution_count": null,
   "metadata": {},
   "outputs": [],
   "source": []
  }
 ],
 "metadata": {
  "kernelspec": {
   "display_name": "Python 3",
   "language": "python",
   "name": "python3"
  },
  "language_info": {
   "codemirror_mode": {
    "name": "ipython",
    "version": 3
   },
   "file_extension": ".py",
   "mimetype": "text/x-python",
   "name": "python",
   "nbconvert_exporter": "python",
   "pygments_lexer": "ipython3",
   "version": "3.7.4"
  }
 },
 "nbformat": 4,
 "nbformat_minor": 2
}
