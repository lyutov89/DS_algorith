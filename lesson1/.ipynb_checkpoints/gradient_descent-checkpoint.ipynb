{
 "cells": [
  {
   "cell_type": "code",
   "execution_count": 1,
   "metadata": {},
   "outputs": [],
   "source": [
    "import numpy as np\n",
    "import matplotlib.pyplot as plt"
   ]
  },
  {
   "cell_type": "markdown",
   "metadata": {},
   "source": [
    "1. Подберите скорость обучения (alpha) и количество итераций:"
   ]
  },
  {
   "cell_type": "code",
   "execution_count": 3,
   "metadata": {},
   "outputs": [],
   "source": [
    "X = np.array([[1, 1, 1, 1, 1, 1, 1, 1, 1, 1],\n",
    "              [1, 1, 2, 1, 3, 0, 5, 10, 1, 2]])\n",
    "y = [45, 55, 50, 59, 65, 35, 75, 80, 50, 60]"
   ]
  },
  {
   "cell_type": "code",
   "execution_count": 4,
   "metadata": {},
   "outputs": [
    {
     "data": {
      "text/plain": [
       "(array([1. , 0.5]), 0.0001)"
      ]
     },
     "execution_count": 4,
     "metadata": {},
     "output_type": "execute_result"
    }
   ],
   "source": [
    "n = X.shape[1]\n",
    "alpha = 1e-4\n",
    "W = np.array([1, 0.5])\n",
    "W, alpha"
   ]
  },
  {
   "cell_type": "code",
   "execution_count": 8,
   "metadata": {},
   "outputs": [],
   "source": [
    "# реализуем функцию, определяющую среднеквадратичную ошибку\n",
    "def mserror(y, y_pred):\n",
    "    return np.mean((y - y_pred)**2)"
   ]
  },
  {
   "cell_type": "code",
   "execution_count": 10,
   "metadata": {},
   "outputs": [
    {
     "name": "stdout",
     "output_type": "stream",
     "text": [
      "0 [1.01102 0.5    ] 3173.15\n",
      "0 [1.01102 0.534  ] 3173.15\n",
      "100 [2.02168794 3.42791095] 2207.6942101483005\n",
      "100 [2.02168794 3.452835  ] 2207.6942101483005\n",
      "200 [2.88306663 5.57141207] 1670.7027004086372\n",
      "200 [2.88306663 5.58962851] 1670.7027004086372\n",
      "300 [3.63289519 7.1352209 ] 1368.0832412796256\n",
      "300 [3.63289519 7.14848061] 1368.0832412796256\n",
      "400 [4.29908617 8.27068189] 1193.7493344933293\n",
      "400 [4.29908617 8.28027926] 1193.7493344933293\n",
      "500 [4.90228732 9.08968104] 1089.714750358689\n",
      "500 [4.90228732 9.09657298] 1089.714750358689\n",
      "600 [5.45777535 9.6749329 ] 1024.2828984889416\n",
      "600 [5.45777535 9.67982684] 1024.2828984889416\n",
      "700 [ 5.97685612 10.08758579] 980.1260644155933\n",
      "700 [ 5.97685612 10.0910047 ] 980.1260644155933\n",
      "800 [ 6.46789973 10.37284419] 947.770026039189\n",
      "800 [ 6.46789973 10.37517467] 947.770026039189\n",
      "900 [ 6.93710574 10.56412541] 922.0330206910178\n",
      "900 [ 6.93710574 10.56565326] 922.0330206910178\n"
     ]
    }
   ],
   "source": [
    "for i in range(1000):\n",
    "    y_pred = np.dot(W, X)\n",
    "    err = mserror(y, y_pred)\n",
    "    for ii in range(W.shape[0]):\n",
    "        W[ii] -= alpha * (1/n * 2 * np.sum(X[ii] * (y_pred - y)))\n",
    "        if i % 100 == 0:\n",
    "            print(i, W, err)"
   ]
  },
  {
   "cell_type": "code",
   "execution_count": null,
   "metadata": {},
   "outputs": [],
   "source": []
  }
 ],
 "metadata": {
  "kernelspec": {
   "display_name": "Python 3",
   "language": "python",
   "name": "python3"
  },
  "language_info": {
   "codemirror_mode": {
    "name": "ipython",
    "version": 3
   },
   "file_extension": ".py",
   "mimetype": "text/x-python",
   "name": "python",
   "nbconvert_exporter": "python",
   "pygments_lexer": "ipython3",
   "version": "3.7.4"
  }
 },
 "nbformat": 4,
 "nbformat_minor": 2
}
