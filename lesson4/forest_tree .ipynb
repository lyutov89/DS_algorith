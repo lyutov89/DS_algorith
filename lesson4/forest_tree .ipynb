{
 "cells": [
  {
   "cell_type": "markdown",
   "metadata": {},
   "source": [
    "- В коде из методички реализуйте один или несколько из критериев останова (количество листьев, количество используемых признаков, глубина дерева и т.д.).\n",
    "- Для задачи классификации обучить дерево решений с использованием критериев разбиения Джини и Энтропия. Сравнить качество классификации, сделать выводы. \n",
    "- 3*. Реализуйте дерево для задачи регрессии. Возьмите за основу дерево, реализованное в методичке, заменив механизм предсказания в листе на взятие среднего значения по выборке, и критерий Джини на дисперсию значений."
   ]
  },
  {
   "cell_type": "code",
   "execution_count": 601,
   "metadata": {},
   "outputs": [],
   "source": [
    "import matplotlib.pyplot as plt\n",
    "import random\n",
    "\n",
    "from matplotlib.colors import ListedColormap\n",
    "from sklearn import datasets\n",
    "\n",
    "import numpy as np\n",
    "import math"
   ]
  },
  {
   "cell_type": "code",
   "execution_count": 603,
   "metadata": {},
   "outputs": [
    {
     "name": "stdout",
     "output_type": "stream",
     "text": [
      "Введите кол-во фичей (от 2 до 5): 3\n"
     ]
    }
   ],
   "source": [
    "n_= int(input('Введите кол-во фичей (от 2 до 5): '))"
   ]
  },
  {
   "cell_type": "code",
   "execution_count": 604,
   "metadata": {},
   "outputs": [
    {
     "name": "stdout",
     "output_type": "stream",
     "text": [
      "Введите минимальное кол-во листьев (от 2 до 10): 5\n"
     ]
    }
   ],
   "source": [
    "leaf_= int(input('Введите минимальное кол-во листьев (от 2 до 10): '))"
   ]
  },
  {
   "cell_type": "code",
   "execution_count": 605,
   "metadata": {},
   "outputs": [],
   "source": [
    "# сгенерируем данные\n",
    "classification_data, classification_labels = datasets.make_classification(n_features=n_, n_informative = 2, \n",
    "                                                      n_classes = 2, n_redundant=0, \n",
    "                                                      n_clusters_per_class=1, random_state=33)"
   ]
  },
  {
   "cell_type": "code",
   "execution_count": 606,
   "metadata": {},
   "outputs": [
    {
     "data": {
      "text/plain": [
       "array([0, 1, 1, 0, 1, 0, 1, 0, 0, 1, 0, 1, 1, 1, 0, 0, 1, 1, 1, 0, 1, 0,\n",
       "       0, 1, 0, 1, 1, 0, 0, 1, 0, 0, 0, 1, 0, 0, 1, 1, 1, 0, 1, 1, 0, 0,\n",
       "       0, 0, 1, 0, 0, 0, 1, 0, 1, 0, 0, 1, 0, 0, 1, 1, 0, 0, 1, 1, 1, 0,\n",
       "       1, 0, 0, 0, 1, 1, 0, 0, 0, 1, 0, 0, 1, 0, 0, 0, 1, 1, 1, 0, 0, 1,\n",
       "       1, 1, 0, 1, 1, 0, 1, 1, 1, 1, 1, 0])"
      ]
     },
     "execution_count": 606,
     "metadata": {},
     "output_type": "execute_result"
    }
   ],
   "source": [
    "classification_labels"
   ]
  },
  {
   "cell_type": "code",
   "execution_count": 607,
   "metadata": {},
   "outputs": [
    {
     "data": {
      "text/plain": [
       "100"
      ]
     },
     "execution_count": 607,
     "metadata": {},
     "output_type": "execute_result"
    }
   ],
   "source": [
    "classification_data.shape[0]"
   ]
  },
  {
   "cell_type": "code",
   "execution_count": 608,
   "metadata": {},
   "outputs": [
    {
     "data": {
      "text/plain": [
       "3"
      ]
     },
     "execution_count": 608,
     "metadata": {},
     "output_type": "execute_result"
    }
   ],
   "source": [
    "classification_data.shape[1]"
   ]
  },
  {
   "cell_type": "code",
   "execution_count": 609,
   "metadata": {},
   "outputs": [],
   "source": [
    "# Реализуем класс узла\n",
    "class Node:\n",
    "    \n",
    "    def __init__(self, index, t, true_branch, false_branch):\n",
    "        self.index = index  # индекс признака, по которому ведется сравнение с порогом в этом узле\n",
    "        self.t = t  # значение порога, разделяющего дерево на true и false\n",
    "        self.true_branch = true_branch  # ветка (стебель) поддерева, удовлетворяющее условию в узле\n",
    "        self.false_branch = false_branch  # ветка (стебель) поддерева, не удовлетворяющее условию в узле"
   ]
  },
  {
   "cell_type": "code",
   "execution_count": 610,
   "metadata": {},
   "outputs": [],
   "source": [
    "# И класс верхушечного терминального узла (конечного листа)\n",
    "\n",
    "class Leaf:\n",
    "    \n",
    "    def __init__(self, data, labels):\n",
    "        self.data = data\n",
    "        self.labels = labels\n",
    "        self.prediction = self.predict()\n",
    "        \n",
    "    def predict(self):\n",
    "        # подсчет количества объектов разных классов\n",
    "        classes = {}  # сформируем словарь \"класс: количество объектов\"\n",
    "        for label in self.labels:\n",
    "            if label not in classes:\n",
    "                classes[label] = 0\n",
    "            classes[label] += 1\n",
    "        #  найдем класс, количество объектов которого будет максимальным в этом листе и вернем его    \n",
    "        prediction = max(classes, key=classes.get)\n",
    "        return prediction  "
   ]
  },
  {
   "cell_type": "code",
   "execution_count": 739,
   "metadata": {},
   "outputs": [],
   "source": [
    "# Расчет критериальный признаков\n",
    "\n",
    "def info_criteria(type_criteria:str, labels):\n",
    "    #  подсчет количества объектов разных классов\n",
    "    classes = {}\n",
    "    for label in labels:\n",
    "        if label not in classes:\n",
    "            classes[label] = 0\n",
    "        classes[label] += 1\n",
    "    \n",
    "    info_criteria = []\n",
    "    \n",
    "    if type_criteria == 'gini':\n",
    "    \n",
    "    #  расчет критерия\n",
    "        impurity = 1\n",
    "        for label in classes:\n",
    "            p = classes[label] / len(labels)\n",
    "            impurity -= p ** 2\n",
    "        \n",
    "        info_criteria.append(impurity)\n",
    "    \n",
    "    elif type_criteria == 'shenon': \n",
    "        \n",
    "        entropy=0\n",
    "        for i in classes: \n",
    "            p = classes[label]/len(labels)\n",
    "            entropy -= p*np.math.log2(p)\n",
    "        \n",
    "        info_criteria.append(entropy)\n",
    "        \n",
    "    return info_criteria[0]"
   ]
  },
  {
   "cell_type": "code",
   "execution_count": 613,
   "metadata": {},
   "outputs": [
    {
     "data": {
      "text/plain": [
       "0.9908594647592938"
      ]
     },
     "execution_count": 613,
     "metadata": {},
     "output_type": "execute_result"
    }
   ],
   "source": [
    "info_criteria('shenon', classification_labels)"
   ]
  },
  {
   "cell_type": "code",
   "execution_count": 614,
   "metadata": {},
   "outputs": [
    {
     "data": {
      "text/plain": [
       "0.4998"
      ]
     },
     "execution_count": 614,
     "metadata": {},
     "output_type": "execute_result"
    }
   ],
   "source": [
    "info_criteria('gini', classification_labels)"
   ]
  },
  {
   "cell_type": "code",
   "execution_count": 740,
   "metadata": {},
   "outputs": [],
   "source": [
    "# Расчет качества по энтропии Шэнона\n",
    "\n",
    "def quality_shenon_entropy(left_labels, right_labels, current_shenon):\n",
    "\n",
    "    # доля выбоки, ушедшая в левое поддерево\n",
    "    p = float(left_labels.shape[0]) / (left_labels.shape[0] + right_labels.shape[0])\n",
    "    \n",
    "    return current_shenon - (-p) * info_criteria('shenon', left_labels) - (1 - p) * info_criteria('shenon', right_labels)"
   ]
  },
  {
   "cell_type": "code",
   "execution_count": 741,
   "metadata": {},
   "outputs": [],
   "source": [
    "# Расчет качества по Джини\n",
    "\n",
    "def quality_gini(left_labels, right_labels, current_gini):\n",
    "\n",
    "    # доля выбоки, ушедшая в левое поддерево\n",
    "    p = float(left_labels.shape[0]) / (left_labels.shape[0] + right_labels.shape[0])\n",
    "    \n",
    "    return current_gini - (-p) * info_criteria('gini', left_labels) - (1 - p) * info_criteria('gini', right_labels)"
   ]
  },
  {
   "cell_type": "code",
   "execution_count": 742,
   "metadata": {},
   "outputs": [],
   "source": [
    "# Разбиение датасета в узле\n",
    "\n",
    "def split(data, labels, index, t):\n",
    "    \n",
    "    left = np.where(data[:, index] <= t)\n",
    "    right = np.where(data[:, index] > t)\n",
    "        \n",
    "    true_data = data[left]\n",
    "    false_data = data[right]\n",
    "    true_labels = labels[left]\n",
    "    false_labels = labels[right]\n",
    "        \n",
    "    return true_data, false_data, true_labels, false_labels"
   ]
  },
  {
   "cell_type": "code",
   "execution_count": 743,
   "metadata": {},
   "outputs": [],
   "source": [
    "# Нахождение наилучшего разбиения\n",
    "\n",
    "def find_best_split(data, labels, type_criteria, leaf=leaf_):\n",
    "    \n",
    "    #  обозначим минимальное количество объектов в узле\n",
    "    min_leaf = leaf_\n",
    "    \n",
    "    if type_criteria == 'gini':\n",
    "        current_gini = info_criteria('gini', labels)\n",
    "    else:\n",
    "        current_shenon = info_criteria('shenon', labels)\n",
    "\n",
    "    best_quality = 0   #начальный параметр качества, равен нулю\n",
    "    best_t = None      #начальный параметр, порог\n",
    "    best_index = None  #начальный параметр, индекс фичи\n",
    "    \n",
    "    n_features = data.shape[1]\n",
    "    \n",
    "    for index in range(n_features):\n",
    "        # будем проверять только уникальные значения признака, исключая повторения\n",
    "        t_values = np.unique([row[index] for row in data])\n",
    "        \n",
    "        for t in t_values:\n",
    "            true_data, false_data, true_labels, false_labels = split(data, labels, index, t)\n",
    "            #  пропускаем разбиения, в которых в узле остается менее 5 объектов\n",
    "            if len(true_data) < min_leaf or len(false_data) < min_leaf:\n",
    "                continue\n",
    "            \n",
    "            if type_criteria == 'gini': \n",
    "                current_quality = quality_gini(true_labels, false_labels, current_gini)\n",
    "                \n",
    "            elif type_criteria == 'shenon':  \n",
    "                current_quality = quality_shenon_entropy(true_labels, false_labels, current_shenon)\n",
    "            \n",
    "            #  выбираем порог, на котором получается максимальный прирост качества\n",
    "            if current_quality > best_quality:\n",
    "                best_quality, best_t, best_index = current_quality, t, index\n",
    "\n",
    "    return best_quality, best_t, best_index"
   ]
  },
  {
   "cell_type": "code",
   "execution_count": 626,
   "metadata": {},
   "outputs": [],
   "source": [
    "#может быть закинуть quality в массив и поработать так с ним??? \n",
    "# как реализовать ввод листьев через input... Где-то был пример. Надо вспоминать. "
   ]
  },
  {
   "cell_type": "code",
   "execution_count": 744,
   "metadata": {},
   "outputs": [],
   "source": [
    "# Построение дерева с помощью рекурсивной функции\n",
    "\n",
    "def build_tree(data, labels, type_criteria, leaf=leaf_):\n",
    "\n",
    "    quality, t, index = find_best_split(data, labels, type_criteria, leaf=leaf_)\n",
    "\n",
    "    #  Базовый случай - прекращаем рекурсию, когда нет прироста в качества\n",
    "    if quality == 0:\n",
    "        return Leaf(data, labels)\n",
    "\n",
    "    true_data, false_data, true_labels, false_labels = split(data, labels, index, t)\n",
    "\n",
    "    # Рекурсивно строим два поддерева\n",
    "    true_branch = build_tree(true_data, true_labels, type_criteria, leaf=leaf_)\n",
    "    false_branch = build_tree(false_data, false_labels, type_criteria, leaf=leaf_)\n",
    "\n",
    "    # Возвращаем класс узла со всеми поддеревьями, то есть целого дерева\n",
    "    return Node(index, t, true_branch, false_branch)"
   ]
  },
  {
   "cell_type": "code",
   "execution_count": 745,
   "metadata": {},
   "outputs": [],
   "source": [
    "def classify_object(obj, node):\n",
    "\n",
    "    #  Останавливаем рекурсию, если достигли листа\n",
    "    if isinstance(node, Leaf):\n",
    "        answer = node.prediction\n",
    "        return answer\n",
    "\n",
    "    if obj[node.index] <= node.t:\n",
    "        return classify_object(obj, node.true_branch)\n",
    "    else:\n",
    "        return classify_object(obj, node.false_branch)"
   ]
  },
  {
   "cell_type": "code",
   "execution_count": 746,
   "metadata": {},
   "outputs": [],
   "source": [
    "def predict(data, tree):\n",
    "    \n",
    "    classes = []\n",
    "    for obj in data:\n",
    "        prediction = classify_object(obj, tree)\n",
    "        classes.append(prediction)\n",
    "    return classes"
   ]
  },
  {
   "cell_type": "code",
   "execution_count": 747,
   "metadata": {},
   "outputs": [],
   "source": [
    "# Разобьем выборку на обучающую и тестовую\n",
    "\n",
    "from sklearn import model_selection\n",
    "\n",
    "train_data, test_data, train_labels, test_labels = model_selection.train_test_split(classification_data, \n",
    "                                                                                     classification_labels, \n",
    "                                                                                     test_size = 0.3,\n",
    "                                                                                     random_state = 1)"
   ]
  },
  {
   "cell_type": "code",
   "execution_count": 748,
   "metadata": {},
   "outputs": [],
   "source": [
    "# Построим дерево по обучающей выборке\n",
    "my_tree = build_tree(train_data, train_labels, type_criteria='shenon', leaf=leaf_)"
   ]
  },
  {
   "cell_type": "code",
   "execution_count": 749,
   "metadata": {},
   "outputs": [
    {
     "name": "stdout",
     "output_type": "stream",
     "text": [
      "Индекс 0\n",
      "Порог 2.0101109109981\n",
      "--> True:\n",
      "  Индекс 0\n",
      "  Порог 1.7160256769490312\n",
      "  --> True:\n",
      "    Индекс 0\n",
      "    Порог 1.321702071253235\n",
      "    --> True:\n",
      "      Индекс 1\n",
      "      Порог 2.083493567759761\n",
      "      --> True:\n",
      "        Индекс 1\n",
      "        Порог 1.838978814328743\n",
      "        --> True:\n",
      "          Индекс 1\n",
      "          Порог 1.2447102045271525\n",
      "          --> True:\n",
      "            Индекс 0\n",
      "            Порог 0.8274884684142032\n",
      "            --> True:\n",
      "              Индекс 1\n",
      "              Порог 0.9155124476066724\n",
      "              --> True:\n",
      "                Индекс 0\n",
      "                Порог 0.5518915729504906\n",
      "                --> True:\n",
      "                  Индекс 2\n",
      "                  Порог 0.47306489847333005\n",
      "                  --> True:\n",
      "                    Индекс 1\n",
      "                    Порог 0.30427455266022674\n",
      "                    --> True:\n",
      "                      Индекс 0\n",
      "                      Порог 0.455441823029495\n",
      "                      --> True:\n",
      "                        Индекс 0\n",
      "                        Порог -0.11263357065295021\n",
      "                        --> True:\n",
      "                          Прогноз: 0\n",
      "                        --> False:\n",
      "                          Прогноз: 1\n",
      "                      --> False:\n",
      "                        Прогноз: 1\n",
      "                    --> False:\n",
      "                      Прогноз: 0\n",
      "                  --> False:\n",
      "                    Прогноз: 0\n",
      "                --> False:\n",
      "                  Прогноз: 1\n",
      "              --> False:\n",
      "                Прогноз: 0\n",
      "            --> False:\n",
      "              Прогноз: 1\n",
      "          --> False:\n",
      "            Прогноз: 0\n",
      "        --> False:\n",
      "          Прогноз: 0\n",
      "      --> False:\n",
      "        Прогноз: 0\n",
      "    --> False:\n",
      "      Прогноз: 1\n",
      "  --> False:\n",
      "    Прогноз: 1\n",
      "--> False:\n",
      "  Прогноз: 1\n"
     ]
    }
   ],
   "source": [
    "# Напечатаем ход нашего дерева\n",
    "def print_tree(node, spacing=\"\"):\n",
    "\n",
    "    # Если лист, то выводим его прогноз\n",
    "    if isinstance(node, Leaf):\n",
    "        print(spacing + \"Прогноз:\", node.prediction)\n",
    "        return\n",
    "\n",
    "    # Выведем значение индекса и порога на этом узле\n",
    "    print(spacing + 'Индекс', str(node.index))\n",
    "    print(spacing + 'Порог', str(node.t))\n",
    "\n",
    "    # Рекурсионный вызов функции на положительном поддереве\n",
    "    print (spacing + '--> True:')\n",
    "    print_tree(node.true_branch, spacing + \"  \")\n",
    "\n",
    "    # Рекурсионный вызов функции на положительном поддереве\n",
    "    print (spacing + '--> False:')\n",
    "    print_tree(node.false_branch, spacing + \"  \")\n",
    "    \n",
    "print_tree(my_tree)"
   ]
  },
  {
   "cell_type": "code",
   "execution_count": 750,
   "metadata": {},
   "outputs": [],
   "source": [
    " # Получим ответы для обучающей выборки \n",
    "train_answers = predict(train_data, my_tree)"
   ]
  },
  {
   "cell_type": "code",
   "execution_count": 751,
   "metadata": {},
   "outputs": [],
   "source": [
    "# И получим ответы для тестовой выборки\n",
    "answers = predict(test_data, my_tree)"
   ]
  },
  {
   "cell_type": "code",
   "execution_count": 752,
   "metadata": {},
   "outputs": [],
   "source": [
    "# Введем функцию подсчета точности как доли правильных ответов\n",
    "def accuracy_metric(actual, predicted):\n",
    "    correct = 0\n",
    "    for i in range(len(actual)):\n",
    "        if actual[i] == predicted[i]:\n",
    "            correct += 1\n",
    "    return correct / float(len(actual)) * 100.0"
   ]
  },
  {
   "cell_type": "code",
   "execution_count": 753,
   "metadata": {},
   "outputs": [
    {
     "data": {
      "text/plain": [
       "91.42857142857143"
      ]
     },
     "execution_count": 753,
     "metadata": {},
     "output_type": "execute_result"
    }
   ],
   "source": [
    "# Точность на обучающей выборке\n",
    "train_accuracy = accuracy_metric(train_labels, train_answers)\n",
    "train_accuracy"
   ]
  },
  {
   "cell_type": "code",
   "execution_count": 754,
   "metadata": {},
   "outputs": [
    {
     "data": {
      "text/plain": [
       "96.66666666666667"
      ]
     },
     "execution_count": 754,
     "metadata": {},
     "output_type": "execute_result"
    }
   ],
   "source": [
    "# Точность на тестовой выборке\n",
    "test_accuracy = accuracy_metric(test_labels, answers)\n",
    "test_accuracy"
   ]
  },
  {
   "cell_type": "code",
   "execution_count": 755,
   "metadata": {},
   "outputs": [],
   "source": [
    "my_tree_gini = build_tree(train_data, train_labels, type_criteria='gini', leaf=leaf_)"
   ]
  },
  {
   "cell_type": "code",
   "execution_count": 756,
   "metadata": {},
   "outputs": [
    {
     "name": "stdout",
     "output_type": "stream",
     "text": [
      "Индекс 0\n",
      "Порог 2.0101109109981\n",
      "--> True:\n",
      "  Индекс 1\n",
      "  Порог 2.083493567759761\n",
      "  --> True:\n",
      "    Индекс 0\n",
      "    Порог 1.7160256769490312\n",
      "    --> True:\n",
      "      Индекс 1\n",
      "      Порог 1.838978814328743\n",
      "      --> True:\n",
      "        Индекс 0\n",
      "        Порог 1.321702071253235\n",
      "        --> True:\n",
      "          Индекс 1\n",
      "          Порог 1.2447102045271525\n",
      "          --> True:\n",
      "            Индекс 0\n",
      "            Порог 0.8274884684142032\n",
      "            --> True:\n",
      "              Индекс 1\n",
      "              Порог 0.9155124476066724\n",
      "              --> True:\n",
      "                Индекс 0\n",
      "                Порог 0.5518915729504906\n",
      "                --> True:\n",
      "                  Индекс 2\n",
      "                  Порог 0.47306489847333005\n",
      "                  --> True:\n",
      "                    Индекс 0\n",
      "                    Порог 0.455441823029495\n",
      "                    --> True:\n",
      "                      Индекс 1\n",
      "                      Порог 0.30427455266022674\n",
      "                      --> True:\n",
      "                        Индекс 0\n",
      "                        Порог -0.11263357065295021\n",
      "                        --> True:\n",
      "                          Прогноз: 0\n",
      "                        --> False:\n",
      "                          Прогноз: 1\n",
      "                      --> False:\n",
      "                        Прогноз: 0\n",
      "                    --> False:\n",
      "                      Прогноз: 1\n",
      "                  --> False:\n",
      "                    Прогноз: 0\n",
      "                --> False:\n",
      "                  Прогноз: 1\n",
      "              --> False:\n",
      "                Прогноз: 0\n",
      "            --> False:\n",
      "              Прогноз: 1\n",
      "          --> False:\n",
      "            Прогноз: 0\n",
      "        --> False:\n",
      "          Прогноз: 1\n",
      "      --> False:\n",
      "        Прогноз: 0\n",
      "    --> False:\n",
      "      Прогноз: 1\n",
      "  --> False:\n",
      "    Прогноз: 0\n",
      "--> False:\n",
      "  Прогноз: 1\n"
     ]
    }
   ],
   "source": [
    "def print_tree(node, spacing=\"\"):\n",
    "\n",
    "    # Если лист, то выводим его прогноз\n",
    "    if isinstance(node, Leaf):\n",
    "        print(spacing + \"Прогноз:\", node.prediction)\n",
    "        return\n",
    "\n",
    "    # Выведем значение индекса и порога на этом узле\n",
    "    print(spacing + 'Индекс', str(node.index))\n",
    "    print(spacing + 'Порог', str(node.t))\n",
    "\n",
    "    # Рекурсионный вызов функции на положительном поддереве\n",
    "    print (spacing + '--> True:')\n",
    "    print_tree(node.true_branch, spacing + \"  \")\n",
    "\n",
    "    # Рекурсионный вызов функции на положительном поддереве\n",
    "    print (spacing + '--> False:')\n",
    "    print_tree(node.false_branch, spacing + \"  \")\n",
    "    \n",
    "print_tree(my_tree_gini)"
   ]
  },
  {
   "cell_type": "code",
   "execution_count": 757,
   "metadata": {},
   "outputs": [],
   "source": [
    " # Получим ответы для обучающей выборки \n",
    "train_answers_gini = predict(train_data, my_tree_gini)"
   ]
  },
  {
   "cell_type": "code",
   "execution_count": 758,
   "metadata": {},
   "outputs": [],
   "source": [
    "# И получим ответы для тестовой выборки\n",
    "answers_gini = predict(test_data, my_tree_gini)"
   ]
  },
  {
   "cell_type": "code",
   "execution_count": 759,
   "metadata": {},
   "outputs": [],
   "source": [
    "# Введем функцию подсчета точности как доли правильных ответов\n",
    "def accuracy_metric(actual, predicted):\n",
    "    correct = 0\n",
    "    for i in range(len(actual)):\n",
    "        if actual[i] == predicted[i]:\n",
    "            correct += 1\n",
    "    return correct / float(len(actual)) * 100.0"
   ]
  },
  {
   "cell_type": "code",
   "execution_count": 760,
   "metadata": {},
   "outputs": [
    {
     "data": {
      "text/plain": [
       "91.42857142857143"
      ]
     },
     "execution_count": 760,
     "metadata": {},
     "output_type": "execute_result"
    }
   ],
   "source": [
    "# Точность на обучающей выборке\n",
    "train_accuracy_gini = accuracy_metric(train_labels, train_answers_gini)\n",
    "train_accuracy"
   ]
  },
  {
   "cell_type": "code",
   "execution_count": 761,
   "metadata": {},
   "outputs": [
    {
     "data": {
      "text/plain": [
       "96.66666666666667"
      ]
     },
     "execution_count": 761,
     "metadata": {},
     "output_type": "execute_result"
    }
   ],
   "source": [
    "# Точность на тестовой выборке\n",
    "test_accuracy = accuracy_metric(test_labels, answers_gini)\n",
    "test_accuracy"
   ]
  },
  {
   "cell_type": "markdown",
   "metadata": {},
   "source": [
    "Заключение о проделанной работе: \n",
    "    - я полагаю, что это не лучшая реализация алгоритма. Наверное, тут можно оперировать ООП и отдельно определить по какому критерию информативности будем определять качество и какое минимальное кол-во листьев можно выбрать \n",
    "    - очень долго не мог понять, почему train и test accuracy было такое низкое. В начальных параметрах выбрал кол-во классов 3. Невнимательность - наше все. \n",
    "    - я реализовал два дерева: в одном использовал критерий Джини, во втором - Шэнон. Почему-то качество вышло одно и тоже :(. Где-то закралась ошибка. Но функционально реализовано вроде все верно, поэтому сам идентифицировать не могу. \n",
    "    - в разборе интересно посмотреть как реализовано третье ДЗ и конечно, более высокоуровневое ООП. Подозреваю, что именно так было выполнено образцовое решение, ибо Наставник спрашивал, как у нас с ООП"
   ]
  }
 ],
 "metadata": {
  "kernelspec": {
   "display_name": "Python 3",
   "language": "python",
   "name": "python3"
  },
  "language_info": {
   "codemirror_mode": {
    "name": "ipython",
    "version": 3
   },
   "file_extension": ".py",
   "mimetype": "text/x-python",
   "name": "python",
   "nbconvert_exporter": "python",
   "pygments_lexer": "ipython3",
   "version": "3.7.4"
  }
 },
 "nbformat": 4,
 "nbformat_minor": 2
}
